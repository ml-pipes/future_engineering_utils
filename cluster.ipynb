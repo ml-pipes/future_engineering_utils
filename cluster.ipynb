{
 "cells": [
  {
   "cell_type": "code",
   "execution_count": null,
   "metadata": {},
   "outputs": [],
   "source": [
    "# default_exp cluster"
   ]
  },
  {
   "cell_type": "markdown",
   "metadata": {},
   "source": [
    "#### fe_utils.cluster\n",
    "> module for clustering optimization"
   ]
  },
  {
   "cell_type": "code",
   "execution_count": null,
   "metadata": {},
   "outputs": [],
   "source": [
    "# hide\n",
    "from functools import partial\n",
    "from hyperopt import hp\n",
    "from hyperopt import fmin, tpe, space_eval\n",
    "from hyperopt import Trials\n",
    "from hyperopt import STATUS_OK\n",
    "import numpy as np\n",
    "import pandas as pd\n",
    "from sklearn.preprocessing import normalize\n",
    "from sklearn.model_selection import RandomizedSearchCV\n",
    "from sklearn.metrics import make_scorer\n",
    "from sklearn.metrics.cluster import adjusted_rand_score\n",
    "from sklearn.metrics.cluster import homogeneity_completeness_v_measure\n",
    "from sklearn.metrics.cluster import homogeneity_score, v_measure_score, silhouette_score \n",
    "from sklearn.metrics.cluster import completeness_score, adjusted_mutual_info_score\n",
    "import time\n",
    "import umap"
   ]
  },
  {
   "cell_type": "code",
   "execution_count": null,
   "metadata": {},
   "outputs": [],
   "source": [
    "# export\n",
    "\n",
    "def dataloader(path):\n",
    "    \"\"\"\n",
    "    dataloader for saved embeddings. Load from numpy file\n",
    "    \"\"\"\n",
    "    pass"
   ]
  },
  {
   "cell_type": "code",
   "execution_count": null,
   "metadata": {},
   "outputs": [],
   "source": [
    "# export\n",
    "\n",
    "class BayesClusterTrainer():\n",
    "    def __init__(self, space, cost_fn_params, embeddings, labels, *args, **kwargs):\n",
    "        self.space = space\n",
    "        self.cost_fn_params = cost_fn_params\n",
    "\n",
    "        self.embeddings = embeddings\n",
    "        self.labels = labels\n",
    "\n",
    "        self.logs = []\n",
    "\n",
    "    def generate_clusters(self, embeddings,\n",
    "                        min_cluster_size,\n",
    "                        cluster_selection_epsilon,\n",
    "                        cluster_selection_method,\n",
    "                        metric,\n",
    "                        n_neighbors,\n",
    "                        n_components, \n",
    "                        random_state = 42):\n",
    "        \"\"\"\n",
    "        Generate HDBSCAN cluster object after reducing embedding dimensionality with UMAP\n",
    "        \"\"\"\n",
    "    \n",
    "        umap_embeddings = (umap.UMAP(n_neighbors=n_neighbors, \n",
    "                                    n_components=n_components, \n",
    "                                    metric='cosine', \n",
    "                                    random_state=random_state)\n",
    "                                    .fit_transform(embeddings))\n",
    "\n",
    "        clusters = hdbscan.HDBSCAN(min_cluster_size = min_cluster_size,\n",
    "                               metric=metric, cluster_selection_epsilon = cluster_selection_epsilon,\n",
    "                               cluster_selection_method=cluster_selection_method,\n",
    "                               gen_min_span_tree=True).fit(umap_embeddings)\n",
    "\n",
    "        return clusters\n",
    "\n",
    "    def train(self):\n",
    "        print('*' * 10)\n",
    "        print('TRAINING NOW!')\n",
    "        print('*' * 10)\n",
    "        "
   ]
  },
  {
   "cell_type": "markdown",
   "metadata": {},
   "source": [
    "how to use:"
   ]
  },
  {
   "cell_type": "code",
   "execution_count": null,
   "metadata": {},
   "outputs": [
    {
     "name": "stdout",
     "output_type": "stream",
     "text": [
      "**********\n",
      "TRAINING NOW!\n",
      "**********\n"
     ]
    }
   ],
   "source": [
    "space = {'some_param': range(10)}\n",
    "cost_fn_param = {'a':0.3, 'b': 0.7}\n",
    "emb = np.random.randn(32, 768)\n",
    "labels = np.random.randint(0,1,32)\n",
    "\n",
    "trainer = BayesClusterTrainer(space, cost_fn_param, emb, labels)\n",
    "trainer.train()"
   ]
  }
 ],
 "metadata": {
  "kernelspec": {
   "display_name": "Python 3.8.12 64-bit ('basic': conda)",
   "language": "python",
   "name": "python3812jvsc74a57bd0134522dfc15093bb130cd141424566f69cbf66b7031164bd8a1b2ff16db8b46e"
  }
 },
 "nbformat": 4,
 "nbformat_minor": 4
}
